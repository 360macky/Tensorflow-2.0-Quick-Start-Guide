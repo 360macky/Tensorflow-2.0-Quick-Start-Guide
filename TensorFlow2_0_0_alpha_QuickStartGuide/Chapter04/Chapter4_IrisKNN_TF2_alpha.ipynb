{
 "cells": [
  {
   "cell_type": "code",
   "execution_count": null,
   "metadata": {},
   "outputs": [],
   "source": [
    "import numpy as np\n",
    "from sklearn import datasets\n",
    "import tensorflow as tf\n"
   ]
  },
  {
   "cell_type": "code",
   "execution_count": null,
   "metadata": {},
   "outputs": [],
   "source": [
    "iris = datasets.load_iris()\n",
    "x = np.array([i for i in iris.data])\n",
    "y = np.array(iris.target)"
   ]
  },
  {
   "cell_type": "code",
   "execution_count": null,
   "metadata": {},
   "outputs": [],
   "source": [
    "flower_labels = [\"iris setosa\", \"iris virginica\", \"iris versicolor\"]"
   ]
  },
  {
   "cell_type": "code",
   "execution_count": null,
   "metadata": {},
   "outputs": [],
   "source": [
    "#one hot encoding\n",
    "y = np.eye(len(set(y)))[y]"
   ]
  },
  {
   "cell_type": "code",
   "execution_count": null,
   "metadata": {},
   "outputs": [],
   "source": [
    "# normalise the x data to the range 0 to 1\n",
    "x = (x - x.min(axis=0)) / (x.max(axis=0) - x.min(axis=0))"
   ]
  },
  {
   "cell_type": "code",
   "execution_count": null,
   "metadata": {},
   "outputs": [],
   "source": [
    "# create indices for the train-test split\n",
    "np.random.seed(42)\n",
    "split = 0.8 # this makes 120 train and 30 test features\n",
    "train_indices = np.random.choice(len(x), round(len(x) * split), replace=False)\n",
    "test_indices =np.array(list(set(range(len(x))) - set(train_indices)))"
   ]
  },
  {
   "cell_type": "code",
   "execution_count": null,
   "metadata": {},
   "outputs": [],
   "source": [
    "# the train-test split\n",
    "train_x = x[train_indices]\n",
    "test_x = x[test_indices]\n",
    "train_y = y[train_indices]\n",
    "test_y = y[test_indices]"
   ]
  },
  {
   "cell_type": "code",
   "execution_count": null,
   "metadata": {},
   "outputs": [],
   "source": [
    "#\n",
    "def prediction(train_x, test_x, train_y,k):\n",
    "    print(test_x)\n",
    "    d0 = tf.expand_dims(test_x, axis =1)\n",
    "    d1 = tf.subtract(train_x, d0)\n",
    "    d2 = tf.abs(d1)\n",
    "    distances = tf.reduce_sum(input_tensor=d2, axis=2)\n",
    "    print(distances)\n",
    "    # or\n",
    "    # distances = tf.reduce_sum(tf.abs(tf.subtract(train_x, tf.expand_dims(test_x, axis =1))), axis=2)\n",
    "    _, top_k_indices = tf.nn.top_k(tf.negative(distances), k=k)\n",
    "    top_k_labels = tf.gather(train_y, top_k_indices)\n",
    "    predictions_sum = tf.reduce_sum(input_tensor=top_k_labels, axis=1)\n",
    "    pred = tf.argmax(input=predictions_sum, axis=1)\n",
    "    return pred"
   ]
  },
  {
   "cell_type": "code",
   "execution_count": null,
   "metadata": {},
   "outputs": [],
   "source": [
    "k = 5"
   ]
  },
  {
   "cell_type": "code",
   "execution_count": null,
   "metadata": {},
   "outputs": [],
   "source": []
  },
  {
   "cell_type": "code",
   "execution_count": null,
   "metadata": {},
   "outputs": [],
   "source": [
    "i, total = 0 , 0\n",
    "results = zip(prediction(train_x, test_x, train_y,k), test_y) #concatenate predicted label with actual label\n",
    "print(\"Predicted        Actual\")\n",
    "print(\"---------        ------\")\n",
    "for pred, actual in results:\n",
    "    print(i, flower_labels[pred.numpy()],\"\\t\",flower_labels[np.argmax(actual)] )\n",
    "    if pred.numpy() == np.argmax(actual):\n",
    "        total += 1\n",
    "    i += 1\n",
    "accuracy = round(total/len(test_x),3)*100\n",
    "print(\"Accuracy = \",accuracy,\"%\")"
   ]
  },
  {
   "cell_type": "code",
   "execution_count": null,
   "metadata": {},
   "outputs": [],
   "source": []
  },
  {
   "cell_type": "code",
   "execution_count": null,
   "metadata": {},
   "outputs": [],
   "source": []
  }
 ],
 "metadata": {
  "kernelspec": {
   "display_name": "Python 3",
   "language": "python",
   "name": "python3"
  },
  "language_info": {
   "codemirror_mode": {
    "name": "ipython",
    "version": 3
   },
   "file_extension": ".py",
   "mimetype": "text/x-python",
   "name": "python",
   "nbconvert_exporter": "python",
   "pygments_lexer": "ipython3",
   "version": "3.6.7"
  }
 },
 "nbformat": 4,
 "nbformat_minor": 2
}
